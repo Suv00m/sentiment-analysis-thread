{
 "cells": [
  {
   "cell_type": "markdown",
   "id": "3caa1be5",
   "metadata": {
    "papermill": {
     "duration": 0.010356,
     "end_time": "2023-08-10T07:34:34.636223",
     "exception": false,
     "start_time": "2023-08-10T07:34:34.625867",
     "status": "completed"
    },
    "tags": []
   },
   "source": [
    "# Step0: Load all the imports"
   ]
  },
  {
   "cell_type": "code",
   "execution_count": 1,
   "id": "1a699aca",
   "metadata": {
    "execution": {
     "iopub.execute_input": "2023-08-10T07:34:34.657409Z",
     "iopub.status.busy": "2023-08-10T07:34:34.656589Z",
     "iopub.status.idle": "2023-08-10T07:34:37.367874Z",
     "shell.execute_reply": "2023-08-10T07:34:37.366613Z"
    },
    "papermill": {
     "duration": 2.725027,
     "end_time": "2023-08-10T07:34:37.370760",
     "exception": false,
     "start_time": "2023-08-10T07:34:34.645733",
     "status": "completed"
    },
    "tags": []
   },
   "outputs": [
    {
     "name": "stderr",
     "output_type": "stream",
     "text": [
      "/opt/conda/lib/python3.10/site-packages/scipy/__init__.py:146: UserWarning: A NumPy version >=1.16.5 and <1.23.0 is required for this version of SciPy (detected version 1.23.5\n",
      "  warnings.warn(f\"A NumPy version >={np_minversion} and <{np_maxversion}\"\n",
      "/opt/conda/lib/python3.10/site-packages/nltk/twitter/__init__.py:20: UserWarning: The twython library has not been installed. Some functionality from the twitter package will not be available.\n",
      "  warnings.warn(\"The twython library has not been installed. \"\n"
     ]
    }
   ],
   "source": [
    "import pandas as pd\n",
    "import numpy as np\n",
    "import matplotlib.pyplot as plt\n",
    "import nltk\n",
    "from nltk.sentiment import SentimentIntensityAnalyzer\n",
    "from tqdm.auto import tqdm\n",
    "import seaborn as sns\n",
    "\n",
    "plt.style.use('ggplot')"
   ]
  },
  {
   "cell_type": "code",
   "execution_count": 2,
   "id": "927265e9",
   "metadata": {
    "execution": {
     "iopub.execute_input": "2023-08-10T07:34:37.391889Z",
     "iopub.status.busy": "2023-08-10T07:34:37.391433Z",
     "iopub.status.idle": "2023-08-10T07:34:37.761829Z",
     "shell.execute_reply": "2023-08-10T07:34:37.760169Z"
    },
    "papermill": {
     "duration": 0.384294,
     "end_time": "2023-08-10T07:34:37.764639",
     "exception": false,
     "start_time": "2023-08-10T07:34:37.380345",
     "status": "completed"
    },
    "tags": []
   },
   "outputs": [],
   "source": [
    "df = pd.read_csv(\"/kaggle/input/37000-reviews-of-thread-app-dataset/37000_reviews_of_thread_app.csv\",usecols=['source','review_id','user_name','review_description','rating','review_date','laguage_code','country_code','thumbs_up'])"
   ]
  },
  {
   "cell_type": "code",
   "execution_count": 3,
   "id": "61555bbc",
   "metadata": {
    "execution": {
     "iopub.execute_input": "2023-08-10T07:34:37.785719Z",
     "iopub.status.busy": "2023-08-10T07:34:37.785276Z",
     "iopub.status.idle": "2023-08-10T07:34:37.798372Z",
     "shell.execute_reply": "2023-08-10T07:34:37.797079Z"
    },
    "papermill": {
     "duration": 0.027181,
     "end_time": "2023-08-10T07:34:37.801432",
     "exception": false,
     "start_time": "2023-08-10T07:34:37.774251",
     "status": "completed"
    },
    "tags": []
   },
   "outputs": [],
   "source": [
    "df.reset_index(inplace = True)"
   ]
  },
  {
   "cell_type": "code",
   "execution_count": 4,
   "id": "8bc93fca",
   "metadata": {
    "execution": {
     "iopub.execute_input": "2023-08-10T07:34:37.822955Z",
     "iopub.status.busy": "2023-08-10T07:34:37.822284Z",
     "iopub.status.idle": "2023-08-10T07:34:37.845359Z",
     "shell.execute_reply": "2023-08-10T07:34:37.844517Z"
    },
    "papermill": {
     "duration": 0.036642,
     "end_time": "2023-08-10T07:34:37.847675",
     "exception": false,
     "start_time": "2023-08-10T07:34:37.811033",
     "status": "completed"
    },
    "tags": []
   },
   "outputs": [
    {
     "data": {
      "text/html": [
       "<div>\n",
       "<style scoped>\n",
       "    .dataframe tbody tr th:only-of-type {\n",
       "        vertical-align: middle;\n",
       "    }\n",
       "\n",
       "    .dataframe tbody tr th {\n",
       "        vertical-align: top;\n",
       "    }\n",
       "\n",
       "    .dataframe thead th {\n",
       "        text-align: right;\n",
       "    }\n",
       "</style>\n",
       "<table border=\"1\" class=\"dataframe\">\n",
       "  <thead>\n",
       "    <tr style=\"text-align: right;\">\n",
       "      <th></th>\n",
       "      <th>index</th>\n",
       "      <th>source</th>\n",
       "      <th>review_id</th>\n",
       "      <th>user_name</th>\n",
       "      <th>review_description</th>\n",
       "      <th>rating</th>\n",
       "      <th>thumbs_up</th>\n",
       "      <th>review_date</th>\n",
       "      <th>laguage_code</th>\n",
       "      <th>country_code</th>\n",
       "    </tr>\n",
       "  </thead>\n",
       "  <tbody>\n",
       "    <tr>\n",
       "      <th>0</th>\n",
       "      <td>0</td>\n",
       "      <td>Google Play</td>\n",
       "      <td>7cd90e5b-4829-43b9-9fb4-c8c6d1e339c1</td>\n",
       "      <td>Eddie Clark Jr.</td>\n",
       "      <td>Good</td>\n",
       "      <td>5</td>\n",
       "      <td>0.0</td>\n",
       "      <td>2023-08-07 19:14:36</td>\n",
       "      <td>en</td>\n",
       "      <td>us</td>\n",
       "    </tr>\n",
       "    <tr>\n",
       "      <th>1</th>\n",
       "      <td>1</td>\n",
       "      <td>Google Play</td>\n",
       "      <td>6deb8265-2bac-4524-bcb6-f90829fa4e69</td>\n",
       "      <td>Rasa RT</td>\n",
       "      <td>Weak copy of Twitter</td>\n",
       "      <td>1</td>\n",
       "      <td>0.0</td>\n",
       "      <td>2023-08-07 19:07:04</td>\n",
       "      <td>en</td>\n",
       "      <td>us</td>\n",
       "    </tr>\n",
       "    <tr>\n",
       "      <th>2</th>\n",
       "      <td>2</td>\n",
       "      <td>Google Play</td>\n",
       "      <td>91ef61ce-0f05-4f3b-b3d3-5d19cd408ab8</td>\n",
       "      <td>SITI NUR HAFIZA BINTI AZIZ</td>\n",
       "      <td>i wish threads have a save button for images a...</td>\n",
       "      <td>3</td>\n",
       "      <td>0.0</td>\n",
       "      <td>2023-08-07 18:57:07</td>\n",
       "      <td>en</td>\n",
       "      <td>us</td>\n",
       "    </tr>\n",
       "    <tr>\n",
       "      <th>3</th>\n",
       "      <td>3</td>\n",
       "      <td>Google Play</td>\n",
       "      <td>b7721b78-6b77-4f8c-a1d3-a854af4c1f0f</td>\n",
       "      <td>Asap Khalifah</td>\n",
       "      <td>Love it</td>\n",
       "      <td>5</td>\n",
       "      <td>0.0</td>\n",
       "      <td>2023-08-07 18:37:16</td>\n",
       "      <td>en</td>\n",
       "      <td>us</td>\n",
       "    </tr>\n",
       "    <tr>\n",
       "      <th>4</th>\n",
       "      <td>4</td>\n",
       "      <td>Google Play</td>\n",
       "      <td>c89ef522-c94c-4171-878f-1d672dce7f11</td>\n",
       "      <td>Syed Hussein</td>\n",
       "      <td>Very god</td>\n",
       "      <td>5</td>\n",
       "      <td>0.0</td>\n",
       "      <td>2023-08-07 18:14:15</td>\n",
       "      <td>en</td>\n",
       "      <td>us</td>\n",
       "    </tr>\n",
       "  </tbody>\n",
       "</table>\n",
       "</div>"
      ],
      "text/plain": [
       "   index       source                             review_id  \\\n",
       "0      0  Google Play  7cd90e5b-4829-43b9-9fb4-c8c6d1e339c1   \n",
       "1      1  Google Play  6deb8265-2bac-4524-bcb6-f90829fa4e69   \n",
       "2      2  Google Play  91ef61ce-0f05-4f3b-b3d3-5d19cd408ab8   \n",
       "3      3  Google Play  b7721b78-6b77-4f8c-a1d3-a854af4c1f0f   \n",
       "4      4  Google Play  c89ef522-c94c-4171-878f-1d672dce7f11   \n",
       "\n",
       "                    user_name  \\\n",
       "0             Eddie Clark Jr.   \n",
       "1                     Rasa RT   \n",
       "2  SITI NUR HAFIZA BINTI AZIZ   \n",
       "3               Asap Khalifah   \n",
       "4                Syed Hussein   \n",
       "\n",
       "                                  review_description  rating  thumbs_up  \\\n",
       "0                                               Good       5        0.0   \n",
       "1                               Weak copy of Twitter       1        0.0   \n",
       "2  i wish threads have a save button for images a...       3        0.0   \n",
       "3                                            Love it       5        0.0   \n",
       "4                                           Very god       5        0.0   \n",
       "\n",
       "           review_date laguage_code country_code  \n",
       "0  2023-08-07 19:14:36           en           us  \n",
       "1  2023-08-07 19:07:04           en           us  \n",
       "2  2023-08-07 18:57:07           en           us  \n",
       "3  2023-08-07 18:37:16           en           us  \n",
       "4  2023-08-07 18:14:15           en           us  "
      ]
     },
     "execution_count": 4,
     "metadata": {},
     "output_type": "execute_result"
    }
   ],
   "source": [
    "df.head()"
   ]
  },
  {
   "cell_type": "code",
   "execution_count": 5,
   "id": "fb69322d",
   "metadata": {
    "execution": {
     "iopub.execute_input": "2023-08-10T07:34:37.871324Z",
     "iopub.status.busy": "2023-08-10T07:34:37.870571Z",
     "iopub.status.idle": "2023-08-10T07:34:37.877209Z",
     "shell.execute_reply": "2023-08-10T07:34:37.876337Z"
    },
    "papermill": {
     "duration": 0.021859,
     "end_time": "2023-08-10T07:34:37.879444",
     "exception": false,
     "start_time": "2023-08-10T07:34:37.857585",
     "status": "completed"
    },
    "tags": []
   },
   "outputs": [
    {
     "data": {
      "text/plain": [
       "(36943, 10)"
      ]
     },
     "execution_count": 5,
     "metadata": {},
     "output_type": "execute_result"
    }
   ],
   "source": [
    "df.shape"
   ]
  },
  {
   "cell_type": "markdown",
   "id": "f1f15f95",
   "metadata": {
    "papermill": {
     "duration": 0.009712,
     "end_time": "2023-08-10T07:34:37.899089",
     "exception": false,
     "start_time": "2023-08-10T07:34:37.889377",
     "status": "completed"
    },
    "tags": []
   },
   "source": [
    "# step1: Some eda [univariate eda,numerical data]"
   ]
  },
  {
   "cell_type": "code",
   "execution_count": 6,
   "id": "12edb020",
   "metadata": {
    "execution": {
     "iopub.execute_input": "2023-08-10T07:34:37.921319Z",
     "iopub.status.busy": "2023-08-10T07:34:37.920592Z",
     "iopub.status.idle": "2023-08-10T07:34:37.933462Z",
     "shell.execute_reply": "2023-08-10T07:34:37.932106Z"
    },
    "papermill": {
     "duration": 0.027068,
     "end_time": "2023-08-10T07:34:37.936088",
     "exception": false,
     "start_time": "2023-08-10T07:34:37.909020",
     "status": "completed"
    },
    "tags": []
   },
   "outputs": [
    {
     "data": {
      "text/plain": [
       "5    17000\n",
       "1    11282\n",
       "4     3588\n",
       "3     2956\n",
       "2     2117\n",
       "Name: rating, dtype: int64"
      ]
     },
     "execution_count": 6,
     "metadata": {},
     "output_type": "execute_result"
    }
   ],
   "source": [
    "df['rating'].value_counts()"
   ]
  },
  {
   "cell_type": "code",
   "execution_count": 7,
   "id": "948bd817",
   "metadata": {
    "execution": {
     "iopub.execute_input": "2023-08-10T07:34:37.961997Z",
     "iopub.status.busy": "2023-08-10T07:34:37.960834Z",
     "iopub.status.idle": "2023-08-10T07:34:37.972843Z",
     "shell.execute_reply": "2023-08-10T07:34:37.971913Z"
    },
    "papermill": {
     "duration": 0.02864,
     "end_time": "2023-08-10T07:34:37.975109",
     "exception": false,
     "start_time": "2023-08-10T07:34:37.946469",
     "status": "completed"
    },
    "tags": []
   },
   "outputs": [
    {
     "data": {
      "text/plain": [
       "0.0      30611\n",
       "1.0       2889\n",
       "2.0        520\n",
       "3.0        193\n",
       "4.0        124\n",
       "         ...  \n",
       "164.0        1\n",
       "91.0         1\n",
       "547.0        1\n",
       "268.0        1\n",
       "114.0        1\n",
       "Name: thumbs_up, Length: 149, dtype: int64"
      ]
     },
     "execution_count": 7,
     "metadata": {},
     "output_type": "execute_result"
    }
   ],
   "source": [
    "df['thumbs_up'].value_counts()"
   ]
  },
  {
   "cell_type": "markdown",
   "id": "e01fe110",
   "metadata": {
    "papermill": {
     "duration": 0.009954,
     "end_time": "2023-08-10T07:34:37.995638",
     "exception": false,
     "start_time": "2023-08-10T07:34:37.985684",
     "status": "completed"
    },
    "tags": []
   },
   "source": [
    "## 1. Some plots"
   ]
  },
  {
   "cell_type": "code",
   "execution_count": 8,
   "id": "827aaa99",
   "metadata": {
    "execution": {
     "iopub.execute_input": "2023-08-10T07:34:38.018669Z",
     "iopub.status.busy": "2023-08-10T07:34:38.017808Z",
     "iopub.status.idle": "2023-08-10T07:34:38.426399Z",
     "shell.execute_reply": "2023-08-10T07:34:38.425131Z"
    },
    "papermill": {
     "duration": 0.423165,
     "end_time": "2023-08-10T07:34:38.429118",
     "exception": false,
     "start_time": "2023-08-10T07:34:38.005953",
     "status": "completed"
    },
    "tags": []
   },
   "outputs": [
    {
     "data": {
      "text/plain": [
       "<Axes: title={'center': 'count for ratings'}>"
      ]
     },
     "execution_count": 8,
     "metadata": {},
     "output_type": "execute_result"
    },
    {
     "data": {
      "image/png": "[encoded data removed]",
      "text/plain": [
       "<Figure size 640x480 with 1 Axes>"
      ]
     },
     "metadata": {},
     "output_type": "display_data"
    }
   ],
   "source": [
    "df['rating'].value_counts().sort_index().plot(kind='bar',title = 'count for ratings')\n"
   ]
  },
  {
   "cell_type": "markdown",
   "id": "47633164",
   "metadata": {
    "papermill": {
     "duration": 0.010601,
     "end_time": "2023-08-10T07:34:38.450700",
     "exception": false,
     "start_time": "2023-08-10T07:34:38.440099",
     "status": "completed"
    },
    "tags": []
   },
   "source": [
    "# step2: Basic NLTK"
   ]
  },
  {
   "cell_type": "markdown",
   "id": "12e51ed6",
   "metadata": {
    "papermill": {
     "duration": 0.010522,
     "end_time": "2023-08-10T07:34:38.472708",
     "exception": false,
     "start_time": "2023-08-10T07:34:38.462186",
     "status": "completed"
    },
    "tags": []
   },
   "source": [
    "## example1:"
   ]
  },
  {
   "cell_type": "code",
   "execution_count": 9,
   "id": "ef38d9b4",
   "metadata": {
    "execution": {
     "iopub.execute_input": "2023-08-10T07:34:38.497592Z",
     "iopub.status.busy": "2023-08-10T07:34:38.496381Z",
     "iopub.status.idle": "2023-08-10T07:34:38.503489Z",
     "shell.execute_reply": "2023-08-10T07:34:38.502511Z"
    },
    "papermill": {
     "duration": 0.022414,
     "end_time": "2023-08-10T07:34:38.505911",
     "exception": false,
     "start_time": "2023-08-10T07:34:38.483497",
     "status": "completed"
    },
    "tags": []
   },
   "outputs": [
    {
     "data": {
      "text/plain": [
       "'Super intuitive and easily portable from Instagram etc. I enjoy it I just always forget to use the damn thing after the influx when it debuted!'"
      ]
     },
     "execution_count": 9,
     "metadata": {},
     "output_type": "execute_result"
    }
   ],
   "source": [
    "example = df['review_description'][55]\n",
    "example"
   ]
  },
  {
   "cell_type": "markdown",
   "id": "1314e27f",
   "metadata": {
    "papermill": {
     "duration": 0.010816,
     "end_time": "2023-08-10T07:34:38.527833",
     "exception": false,
     "start_time": "2023-08-10T07:34:38.517017",
     "status": "completed"
    },
    "tags": []
   },
   "source": [
    "### 1. tokeniser"
   ]
  },
  {
   "cell_type": "code",
   "execution_count": 10,
   "id": "7ca44ec3",
   "metadata": {
    "execution": {
     "iopub.execute_input": "2023-08-10T07:34:38.552255Z",
     "iopub.status.busy": "2023-08-10T07:34:38.551811Z",
     "iopub.status.idle": "2023-08-10T07:34:38.573443Z",
     "shell.execute_reply": "2023-08-10T07:34:38.572466Z"
    },
    "papermill": {
     "duration": 0.036603,
     "end_time": "2023-08-10T07:34:38.575956",
     "exception": false,
     "start_time": "2023-08-10T07:34:38.539353",
     "status": "completed"
    },
    "tags": []
   },
   "outputs": [],
   "source": [
    "token = nltk.word_tokenize(example)"
   ]
  },
  {
   "cell_type": "markdown",
   "id": "5d56b42f",
   "metadata": {
    "papermill": {
     "duration": 0.010751,
     "end_time": "2023-08-10T07:34:38.597728",
     "exception": false,
     "start_time": "2023-08-10T07:34:38.586977",
     "status": "completed"
    },
    "tags": []
   },
   "source": [
    "### 2. part of speech tagging\n",
    " grammatical tagging : it will simply tag the related part of speech as an abvreviation."
   ]
  },
  {
   "cell_type": "code",
   "execution_count": 11,
   "id": "36ff385c",
   "metadata": {
    "execution": {
     "iopub.execute_input": "2023-08-10T07:34:38.621903Z",
     "iopub.status.busy": "2023-08-10T07:34:38.621193Z",
     "iopub.status.idle": "2023-08-10T07:34:38.780788Z",
     "shell.execute_reply": "2023-08-10T07:34:38.779742Z"
    },
    "papermill": {
     "duration": 0.17489,
     "end_time": "2023-08-10T07:34:38.783643",
     "exception": false,
     "start_time": "2023-08-10T07:34:38.608753",
     "status": "completed"
    },
    "tags": []
   },
   "outputs": [],
   "source": [
    "tag = nltk.pos_tag(token)"
   ]
  },
  {
   "cell_type": "markdown",
   "id": "d81c0e7f",
   "metadata": {
    "papermill": {
     "duration": 0.010681,
     "end_time": "2023-08-10T07:34:38.806235",
     "exception": false,
     "start_time": "2023-08-10T07:34:38.795554",
     "status": "completed"
    },
    "tags": []
   },
   "source": [
    "### 3. chunk the tagged tokens\n",
    "Use NLTK's currently recommended named entity chunker to chunk the given list of tagged tokens"
   ]
  },
  {
   "cell_type": "code",
   "execution_count": 12,
   "id": "bef26055",
   "metadata": {
    "execution": {
     "iopub.execute_input": "2023-08-10T07:34:38.831269Z",
     "iopub.status.busy": "2023-08-10T07:34:38.830841Z",
     "iopub.status.idle": "2023-08-10T07:34:39.004301Z",
     "shell.execute_reply": "2023-08-10T07:34:39.002792Z"
    },
    "papermill": {
     "duration": 0.189239,
     "end_time": "2023-08-10T07:34:39.007067",
     "exception": false,
     "start_time": "2023-08-10T07:34:38.817828",
     "status": "completed"
    },
    "tags": []
   },
   "outputs": [],
   "source": [
    "chunk = nltk.chunk.ne_chunk(tag)\n",
    "# chunk.pprint()"
   ]
  },
  {
   "cell_type": "markdown",
   "id": "3b71abf7",
   "metadata": {
    "papermill": {
     "duration": 0.011071,
     "end_time": "2023-08-10T07:34:39.029129",
     "exception": false,
     "start_time": "2023-08-10T07:34:39.018058",
     "status": "completed"
    },
    "tags": []
   },
   "source": [
    "# Step 3. VADER Sentiment Scoring\n",
    "We will use NLTK's `SentimentIntensityAnalyzer` to get the neg/neu/pos scores of the text.\n",
    "\n",
    "This uses a \"bag of words\" approach:\n",
    "Stop words are removed\n",
    "each word is scored and combined to a total score."
   ]
  },
  {
   "cell_type": "markdown",
   "id": "799ca0d2",
   "metadata": {
    "papermill": {
     "duration": 0.010725,
     "end_time": "2023-08-10T07:34:39.050869",
     "exception": false,
     "start_time": "2023-08-10T07:34:39.040144",
     "status": "completed"
    },
    "tags": []
   },
   "source": [
    "### 1. Create a object of `SentimentIntensityAnalyzer`"
   ]
  },
  {
   "cell_type": "code",
   "execution_count": 13,
   "id": "4dcc4c4b",
   "metadata": {
    "execution": {
     "iopub.execute_input": "2023-08-10T07:34:39.075605Z",
     "iopub.status.busy": "2023-08-10T07:34:39.075129Z",
     "iopub.status.idle": "2023-08-10T07:34:39.105100Z",
     "shell.execute_reply": "2023-08-10T07:34:39.103665Z"
    },
    "papermill": {
     "duration": 0.045332,
     "end_time": "2023-08-10T07:34:39.107951",
     "exception": false,
     "start_time": "2023-08-10T07:34:39.062619",
     "status": "completed"
    },
    "tags": []
   },
   "outputs": [],
   "source": [
    "sia = SentimentIntensityAnalyzer()"
   ]
  },
  {
   "cell_type": "code",
   "execution_count": 14,
   "id": "ed8443c1",
   "metadata": {
    "execution": {
     "iopub.execute_input": "2023-08-10T07:34:39.132857Z",
     "iopub.status.busy": "2023-08-10T07:34:39.132393Z",
     "iopub.status.idle": "2023-08-10T07:34:39.141399Z",
     "shell.execute_reply": "2023-08-10T07:34:39.140082Z"
    },
    "papermill": {
     "duration": 0.025086,
     "end_time": "2023-08-10T07:34:39.144169",
     "exception": false,
     "start_time": "2023-08-10T07:34:39.119083",
     "status": "completed"
    },
    "tags": []
   },
   "outputs": [
    {
     "data": {
      "text/plain": [
       "{'neg': 0.138, 'neu': 0.569, 'pos': 0.293, 'compound': 0.7345}"
      ]
     },
     "execution_count": 14,
     "metadata": {},
     "output_type": "execute_result"
    }
   ],
   "source": [
    "sia.polarity_scores(example)"
   ]
  },
  {
   "cell_type": "markdown",
   "id": "560c8e01",
   "metadata": {
    "papermill": {
     "duration": 0.01091,
     "end_time": "2023-08-10T07:34:39.166884",
     "exception": false,
     "start_time": "2023-08-10T07:34:39.155974",
     "status": "completed"
    },
    "tags": []
   },
   "source": [
    "### 2. Getting `polarity_scores` for all `'review_decription'`"
   ]
  },
  {
   "cell_type": "code",
   "execution_count": 15,
   "id": "d42c9c83",
   "metadata": {
    "execution": {
     "iopub.execute_input": "2023-08-10T07:34:39.192635Z",
     "iopub.status.busy": "2023-08-10T07:34:39.192175Z",
     "iopub.status.idle": "2023-08-10T07:34:51.443331Z",
     "shell.execute_reply": "2023-08-10T07:34:51.442037Z"
    },
    "papermill": {
     "duration": 12.269087,
     "end_time": "2023-08-10T07:34:51.447529",
     "exception": false,
     "start_time": "2023-08-10T07:34:39.178442",
     "status": "completed"
    },
    "tags": []
   },
   "outputs": [
    {
     "data": {
      "application/vnd.jupyter.widget-view+json": {
       "model_id": "a5e2c209563049708c9f2751faf717ba",
       "version_major": 2,
       "version_minor": 0
      },
      "text/plain": [
       "  0%|          | 0/36943 [00:00<?, ?it/s]"
      ]
     },
     "metadata": {},
     "output_type": "display_data"
    }
   ],
   "source": [
    "result = {}\n",
    "for i , rows in tqdm(df.iterrows(),total = len(df)):\n",
    "    text = rows['review_description']\n",
    "    id_ = rows['index']\n",
    "    result[id_] = sia.polarity_scores(text)"
   ]
  },
  {
   "cell_type": "markdown",
   "id": "563f9a4d",
   "metadata": {
    "papermill": {
     "duration": 0.011046,
     "end_time": "2023-08-10T07:34:51.469943",
     "exception": false,
     "start_time": "2023-08-10T07:34:51.458897",
     "status": "completed"
    },
    "tags": []
   },
   "source": [
    "### 3. Result (all polarity score)"
   ]
  },
  {
   "cell_type": "code",
   "execution_count": 16,
   "id": "f0970346",
   "metadata": {
    "execution": {
     "iopub.execute_input": "2023-08-10T07:34:51.494525Z",
     "iopub.status.busy": "2023-08-10T07:34:51.494101Z",
     "iopub.status.idle": "2023-08-10T07:34:52.815445Z",
     "shell.execute_reply": "2023-08-10T07:34:52.814225Z"
    },
    "papermill": {
     "duration": 1.336563,
     "end_time": "2023-08-10T07:34:52.817891",
     "exception": false,
     "start_time": "2023-08-10T07:34:51.481328",
     "status": "completed"
    },
    "tags": []
   },
   "outputs": [
    {
     "data": {
      "text/html": [
       "<div>\n",
       "<style scoped>\n",
       "    .dataframe tbody tr th:only-of-type {\n",
       "        vertical-align: middle;\n",
       "    }\n",
       "\n",
       "    .dataframe tbody tr th {\n",
       "        vertical-align: top;\n",
       "    }\n",
       "\n",
       "    .dataframe thead th {\n",
       "        text-align: right;\n",
       "    }\n",
       "</style>\n",
       "<table border=\"1\" class=\"dataframe\">\n",
       "  <thead>\n",
       "    <tr style=\"text-align: right;\">\n",
       "      <th></th>\n",
       "      <th>index</th>\n",
       "      <th>neg</th>\n",
       "      <th>neu</th>\n",
       "      <th>pos</th>\n",
       "      <th>compound</th>\n",
       "    </tr>\n",
       "  </thead>\n",
       "  <tbody>\n",
       "    <tr>\n",
       "      <th>0</th>\n",
       "      <td>0</td>\n",
       "      <td>0.000</td>\n",
       "      <td>0.000</td>\n",
       "      <td>1.000</td>\n",
       "      <td>0.4404</td>\n",
       "    </tr>\n",
       "    <tr>\n",
       "      <th>1</th>\n",
       "      <td>1</td>\n",
       "      <td>0.492</td>\n",
       "      <td>0.508</td>\n",
       "      <td>0.000</td>\n",
       "      <td>-0.4404</td>\n",
       "    </tr>\n",
       "    <tr>\n",
       "      <th>2</th>\n",
       "      <td>2</td>\n",
       "      <td>0.000</td>\n",
       "      <td>0.532</td>\n",
       "      <td>0.468</td>\n",
       "      <td>0.9201</td>\n",
       "    </tr>\n",
       "    <tr>\n",
       "      <th>3</th>\n",
       "      <td>3</td>\n",
       "      <td>0.000</td>\n",
       "      <td>0.192</td>\n",
       "      <td>0.808</td>\n",
       "      <td>0.6369</td>\n",
       "    </tr>\n",
       "    <tr>\n",
       "      <th>4</th>\n",
       "      <td>4</td>\n",
       "      <td>0.000</td>\n",
       "      <td>0.295</td>\n",
       "      <td>0.705</td>\n",
       "      <td>0.3384</td>\n",
       "    </tr>\n",
       "  </tbody>\n",
       "</table>\n",
       "</div>"
      ],
      "text/plain": [
       "   index    neg    neu    pos  compound\n",
       "0      0  0.000  0.000  1.000    0.4404\n",
       "1      1  0.492  0.508  0.000   -0.4404\n",
       "2      2  0.000  0.532  0.468    0.9201\n",
       "3      3  0.000  0.192  0.808    0.6369\n",
       "4      4  0.000  0.295  0.705    0.3384"
      ]
     },
     "execution_count": 16,
     "metadata": {},
     "output_type": "execute_result"
    }
   ],
   "source": [
    "final = pd.DataFrame(result).T\n",
    "final.head().reset_index()"
   ]
  },
  {
   "cell_type": "markdown",
   "id": "0daee866",
   "metadata": {
    "papermill": {
     "duration": 0.011567,
     "end_time": "2023-08-10T07:34:52.841350",
     "exception": false,
     "start_time": "2023-08-10T07:34:52.829783",
     "status": "completed"
    },
    "tags": []
   },
   "source": [
    "### 4. Concating the result with dataset"
   ]
  },
  {
   "cell_type": "code",
   "execution_count": 17,
   "id": "365f0530",
   "metadata": {
    "execution": {
     "iopub.execute_input": "2023-08-10T07:34:52.866886Z",
     "iopub.status.busy": "2023-08-10T07:34:52.866440Z",
     "iopub.status.idle": "2023-08-10T07:34:52.878930Z",
     "shell.execute_reply": "2023-08-10T07:34:52.877678Z"
    },
    "papermill": {
     "duration": 0.028527,
     "end_time": "2023-08-10T07:34:52.881670",
     "exception": false,
     "start_time": "2023-08-10T07:34:52.853143",
     "status": "completed"
    },
    "tags": []
   },
   "outputs": [],
   "source": [
    "final = pd.concat([final,df],axis = 1)"
   ]
  },
  {
   "cell_type": "code",
   "execution_count": 18,
   "id": "e963d0a3",
   "metadata": {
    "execution": {
     "iopub.execute_input": "2023-08-10T07:34:52.906813Z",
     "iopub.status.busy": "2023-08-10T07:34:52.906368Z",
     "iopub.status.idle": "2023-08-10T07:34:52.928258Z",
     "shell.execute_reply": "2023-08-10T07:34:52.926965Z"
    },
    "papermill": {
     "duration": 0.037438,
     "end_time": "2023-08-10T07:34:52.930731",
     "exception": false,
     "start_time": "2023-08-10T07:34:52.893293",
     "status": "completed"
    },
    "tags": []
   },
   "outputs": [
    {
     "data": {
      "text/html": [
       "<div>\n",
       "<style scoped>\n",
       "    .dataframe tbody tr th:only-of-type {\n",
       "        vertical-align: middle;\n",
       "    }\n",
       "\n",
       "    .dataframe tbody tr th {\n",
       "        vertical-align: top;\n",
       "    }\n",
       "\n",
       "    .dataframe thead th {\n",
       "        text-align: right;\n",
       "    }\n",
       "</style>\n",
       "<table border=\"1\" class=\"dataframe\">\n",
       "  <thead>\n",
       "    <tr style=\"text-align: right;\">\n",
       "      <th></th>\n",
       "      <th>neg</th>\n",
       "      <th>neu</th>\n",
       "      <th>pos</th>\n",
       "      <th>compound</th>\n",
       "      <th>index</th>\n",
       "      <th>source</th>\n",
       "      <th>review_id</th>\n",
       "      <th>user_name</th>\n",
       "      <th>review_description</th>\n",
       "      <th>rating</th>\n",
       "      <th>thumbs_up</th>\n",
       "      <th>review_date</th>\n",
       "      <th>laguage_code</th>\n",
       "      <th>country_code</th>\n",
       "    </tr>\n",
       "  </thead>\n",
       "  <tbody>\n",
       "    <tr>\n",
       "      <th>0</th>\n",
       "      <td>0.000</td>\n",
       "      <td>0.000</td>\n",
       "      <td>1.000</td>\n",
       "      <td>0.4404</td>\n",
       "      <td>0</td>\n",
       "      <td>Google Play</td>\n",
       "      <td>7cd90e5b-4829-43b9-9fb4-c8c6d1e339c1</td>\n",
       "      <td>Eddie Clark Jr.</td>\n",
       "      <td>Good</td>\n",
       "      <td>5</td>\n",
       "      <td>0.0</td>\n",
       "      <td>2023-08-07 19:14:36</td>\n",
       "      <td>en</td>\n",
       "      <td>us</td>\n",
       "    </tr>\n",
       "    <tr>\n",
       "      <th>1</th>\n",
       "      <td>0.492</td>\n",
       "      <td>0.508</td>\n",
       "      <td>0.000</td>\n",
       "      <td>-0.4404</td>\n",
       "      <td>1</td>\n",
       "      <td>Google Play</td>\n",
       "      <td>6deb8265-2bac-4524-bcb6-f90829fa4e69</td>\n",
       "      <td>Rasa RT</td>\n",
       "      <td>Weak copy of Twitter</td>\n",
       "      <td>1</td>\n",
       "      <td>0.0</td>\n",
       "      <td>2023-08-07 19:07:04</td>\n",
       "      <td>en</td>\n",
       "      <td>us</td>\n",
       "    </tr>\n",
       "    <tr>\n",
       "      <th>2</th>\n",
       "      <td>0.000</td>\n",
       "      <td>0.532</td>\n",
       "      <td>0.468</td>\n",
       "      <td>0.9201</td>\n",
       "      <td>2</td>\n",
       "      <td>Google Play</td>\n",
       "      <td>91ef61ce-0f05-4f3b-b3d3-5d19cd408ab8</td>\n",
       "      <td>SITI NUR HAFIZA BINTI AZIZ</td>\n",
       "      <td>i wish threads have a save button for images a...</td>\n",
       "      <td>3</td>\n",
       "      <td>0.0</td>\n",
       "      <td>2023-08-07 18:57:07</td>\n",
       "      <td>en</td>\n",
       "      <td>us</td>\n",
       "    </tr>\n",
       "    <tr>\n",
       "      <th>3</th>\n",
       "      <td>0.000</td>\n",
       "      <td>0.192</td>\n",
       "      <td>0.808</td>\n",
       "      <td>0.6369</td>\n",
       "      <td>3</td>\n",
       "      <td>Google Play</td>\n",
       "      <td>b7721b78-6b77-4f8c-a1d3-a854af4c1f0f</td>\n",
       "      <td>Asap Khalifah</td>\n",
       "      <td>Love it</td>\n",
       "      <td>5</td>\n",
       "      <td>0.0</td>\n",
       "      <td>2023-08-07 18:37:16</td>\n",
       "      <td>en</td>\n",
       "      <td>us</td>\n",
       "    </tr>\n",
       "    <tr>\n",
       "      <th>4</th>\n",
       "      <td>0.000</td>\n",
       "      <td>0.295</td>\n",
       "      <td>0.705</td>\n",
       "      <td>0.3384</td>\n",
       "      <td>4</td>\n",
       "      <td>Google Play</td>\n",
       "      <td>c89ef522-c94c-4171-878f-1d672dce7f11</td>\n",
       "      <td>Syed Hussein</td>\n",
       "      <td>Very god</td>\n",
       "      <td>5</td>\n",
       "      <td>0.0</td>\n",
       "      <td>2023-08-07 18:14:15</td>\n",
       "      <td>en</td>\n",
       "      <td>us</td>\n",
       "    </tr>\n",
       "  </tbody>\n",
       "</table>\n",
       "</div>"
      ],
      "text/plain": [
       "     neg    neu    pos  compound  index       source  \\\n",
       "0  0.000  0.000  1.000    0.4404      0  Google Play   \n",
       "1  0.492  0.508  0.000   -0.4404      1  Google Play   \n",
       "2  0.000  0.532  0.468    0.9201      2  Google Play   \n",
       "3  0.000  0.192  0.808    0.6369      3  Google Play   \n",
       "4  0.000  0.295  0.705    0.3384      4  Google Play   \n",
       "\n",
       "                              review_id                   user_name  \\\n",
       "0  7cd90e5b-4829-43b9-9fb4-c8c6d1e339c1             Eddie Clark Jr.   \n",
       "1  6deb8265-2bac-4524-bcb6-f90829fa4e69                     Rasa RT   \n",
       "2  91ef61ce-0f05-4f3b-b3d3-5d19cd408ab8  SITI NUR HAFIZA BINTI AZIZ   \n",
       "3  b7721b78-6b77-4f8c-a1d3-a854af4c1f0f               Asap Khalifah   \n",
       "4  c89ef522-c94c-4171-878f-1d672dce7f11                Syed Hussein   \n",
       "\n",
       "                                  review_description  rating  thumbs_up  \\\n",
       "0                                               Good       5        0.0   \n",
       "1                               Weak copy of Twitter       1        0.0   \n",
       "2  i wish threads have a save button for images a...       3        0.0   \n",
       "3                                            Love it       5        0.0   \n",
       "4                                           Very god       5        0.0   \n",
       "\n",
       "           review_date laguage_code country_code  \n",
       "0  2023-08-07 19:14:36           en           us  \n",
       "1  2023-08-07 19:07:04           en           us  \n",
       "2  2023-08-07 18:57:07           en           us  \n",
       "3  2023-08-07 18:37:16           en           us  \n",
       "4  2023-08-07 18:14:15           en           us  "
      ]
     },
     "execution_count": 18,
     "metadata": {},
     "output_type": "execute_result"
    }
   ],
   "source": [
    "final.head()"
   ]
  },
  {
   "cell_type": "code",
   "execution_count": 19,
   "id": "23125683",
   "metadata": {
    "execution": {
     "iopub.execute_input": "2023-08-10T07:34:52.956917Z",
     "iopub.status.busy": "2023-08-10T07:34:52.956457Z",
     "iopub.status.idle": "2023-08-10T07:34:52.995329Z",
     "shell.execute_reply": "2023-08-10T07:34:52.994165Z"
    },
    "papermill": {
     "duration": 0.055153,
     "end_time": "2023-08-10T07:34:52.998099",
     "exception": false,
     "start_time": "2023-08-10T07:34:52.942946",
     "status": "completed"
    },
    "tags": []
   },
   "outputs": [
    {
     "data": {
      "text/html": [
       "<div>\n",
       "<style scoped>\n",
       "    .dataframe tbody tr th:only-of-type {\n",
       "        vertical-align: middle;\n",
       "    }\n",
       "\n",
       "    .dataframe tbody tr th {\n",
       "        vertical-align: top;\n",
       "    }\n",
       "\n",
       "    .dataframe thead th {\n",
       "        text-align: right;\n",
       "    }\n",
       "</style>\n",
       "<table border=\"1\" class=\"dataframe\">\n",
       "  <thead>\n",
       "    <tr style=\"text-align: right;\">\n",
       "      <th></th>\n",
       "      <th>neg</th>\n",
       "      <th>neu</th>\n",
       "      <th>pos</th>\n",
       "      <th>compound</th>\n",
       "      <th>index</th>\n",
       "      <th>source</th>\n",
       "      <th>review_id</th>\n",
       "      <th>user_name</th>\n",
       "      <th>review_description</th>\n",
       "      <th>rating</th>\n",
       "      <th>thumbs_up</th>\n",
       "      <th>review_date</th>\n",
       "      <th>laguage_code</th>\n",
       "      <th>country_code</th>\n",
       "    </tr>\n",
       "  </thead>\n",
       "  <tbody>\n",
       "    <tr>\n",
       "      <th>9199</th>\n",
       "      <td>0.000</td>\n",
       "      <td>0.263</td>\n",
       "      <td>0.737</td>\n",
       "      <td>0.4215</td>\n",
       "      <td>9199</td>\n",
       "      <td>Google Play</td>\n",
       "      <td>25c64078-7989-4d88-9e26-add258a3ff3c</td>\n",
       "      <td>RADHE SONI</td>\n",
       "      <td>Nice app</td>\n",
       "      <td>5</td>\n",
       "      <td>0.0</td>\n",
       "      <td>2023-07-11 08:41:48</td>\n",
       "      <td>en</td>\n",
       "      <td>us</td>\n",
       "    </tr>\n",
       "    <tr>\n",
       "      <th>32785</th>\n",
       "      <td>0.000</td>\n",
       "      <td>0.913</td>\n",
       "      <td>0.087</td>\n",
       "      <td>0.3182</td>\n",
       "      <td>32785</td>\n",
       "      <td>Google Play</td>\n",
       "      <td>08dd890e-b7bc-44d8-a9a6-11adfb839295</td>\n",
       "      <td>Los Kingster</td>\n",
       "      <td>App not working all content messing up cluster...</td>\n",
       "      <td>1</td>\n",
       "      <td>4.0</td>\n",
       "      <td>2023-07-06 11:44:38</td>\n",
       "      <td>en</td>\n",
       "      <td>us</td>\n",
       "    </tr>\n",
       "    <tr>\n",
       "      <th>17333</th>\n",
       "      <td>0.000</td>\n",
       "      <td>1.000</td>\n",
       "      <td>0.000</td>\n",
       "      <td>0.0000</td>\n",
       "      <td>17333</td>\n",
       "      <td>Google Play</td>\n",
       "      <td>1e314c06-ecd8-496e-960f-4252f1cb3694</td>\n",
       "      <td>Eniola Rufus</td>\n",
       "      <td>Thread 🤘😁🤘 we are</td>\n",
       "      <td>5</td>\n",
       "      <td>0.0</td>\n",
       "      <td>2023-07-08 01:32:55</td>\n",
       "      <td>en</td>\n",
       "      <td>us</td>\n",
       "    </tr>\n",
       "    <tr>\n",
       "      <th>32635</th>\n",
       "      <td>0.000</td>\n",
       "      <td>0.476</td>\n",
       "      <td>0.524</td>\n",
       "      <td>0.6705</td>\n",
       "      <td>32635</td>\n",
       "      <td>Google Play</td>\n",
       "      <td>5688dc2f-480c-4007-b169-645a4e689190</td>\n",
       "      <td>Faraz Khan</td>\n",
       "      <td>Good morning for new opportunities to tweeter</td>\n",
       "      <td>5</td>\n",
       "      <td>0.0</td>\n",
       "      <td>2023-07-06 12:05:47</td>\n",
       "      <td>en</td>\n",
       "      <td>us</td>\n",
       "    </tr>\n",
       "    <tr>\n",
       "      <th>35924</th>\n",
       "      <td>0.178</td>\n",
       "      <td>0.637</td>\n",
       "      <td>0.185</td>\n",
       "      <td>0.0258</td>\n",
       "      <td>35924</td>\n",
       "      <td>App Store</td>\n",
       "      <td>dd909fad-e362-4170-897c-a9dc9c58d719</td>\n",
       "      <td>IDFK!!!!!!!!</td>\n",
       "      <td>Better than having to deal with the freaking p...</td>\n",
       "      <td>5</td>\n",
       "      <td>NaN</td>\n",
       "      <td>2023-07-06 20:49:30</td>\n",
       "      <td>en</td>\n",
       "      <td>us</td>\n",
       "    </tr>\n",
       "    <tr>\n",
       "      <th>11005</th>\n",
       "      <td>0.000</td>\n",
       "      <td>1.000</td>\n",
       "      <td>0.000</td>\n",
       "      <td>0.0000</td>\n",
       "      <td>11005</td>\n",
       "      <td>Google Play</td>\n",
       "      <td>8298ca68-2d69-4b52-8249-ef143794f220</td>\n",
       "      <td>Grant whitman</td>\n",
       "      <td>The app was using about 99% of my battery. Del...</td>\n",
       "      <td>1</td>\n",
       "      <td>0.0</td>\n",
       "      <td>2023-07-10 01:54:35</td>\n",
       "      <td>en</td>\n",
       "      <td>us</td>\n",
       "    </tr>\n",
       "    <tr>\n",
       "      <th>31832</th>\n",
       "      <td>0.000</td>\n",
       "      <td>0.877</td>\n",
       "      <td>0.123</td>\n",
       "      <td>0.2724</td>\n",
       "      <td>31832</td>\n",
       "      <td>Google Play</td>\n",
       "      <td>b34d47b5-a7a3-4ecd-af2f-5aceb10dac61</td>\n",
       "      <td>VIKASH BARAIYA</td>\n",
       "      <td>Very good this app but this app in privacy see...</td>\n",
       "      <td>4</td>\n",
       "      <td>0.0</td>\n",
       "      <td>2023-07-06 13:48:27</td>\n",
       "      <td>en</td>\n",
       "      <td>us</td>\n",
       "    </tr>\n",
       "    <tr>\n",
       "      <th>22928</th>\n",
       "      <td>0.000</td>\n",
       "      <td>0.385</td>\n",
       "      <td>0.615</td>\n",
       "      <td>0.4927</td>\n",
       "      <td>22928</td>\n",
       "      <td>Google Play</td>\n",
       "      <td>14384004-ff40-4c30-8506-5ac16237c6d1</td>\n",
       "      <td>Abdou Belloumi</td>\n",
       "      <td>Very good app</td>\n",
       "      <td>5</td>\n",
       "      <td>0.0</td>\n",
       "      <td>2023-07-07 09:39:27</td>\n",
       "      <td>en</td>\n",
       "      <td>us</td>\n",
       "    </tr>\n",
       "    <tr>\n",
       "      <th>28789</th>\n",
       "      <td>0.000</td>\n",
       "      <td>1.000</td>\n",
       "      <td>0.000</td>\n",
       "      <td>0.0000</td>\n",
       "      <td>28789</td>\n",
       "      <td>Google Play</td>\n",
       "      <td>7a3244bd-0e03-4e38-b4f5-94081b54df8a</td>\n",
       "      <td>pankaj tholia</td>\n",
       "      <td>Thik s le</td>\n",
       "      <td>3</td>\n",
       "      <td>0.0</td>\n",
       "      <td>2023-07-06 19:08:42</td>\n",
       "      <td>en</td>\n",
       "      <td>us</td>\n",
       "    </tr>\n",
       "    <tr>\n",
       "      <th>19793</th>\n",
       "      <td>0.000</td>\n",
       "      <td>0.263</td>\n",
       "      <td>0.737</td>\n",
       "      <td>0.4215</td>\n",
       "      <td>19793</td>\n",
       "      <td>Google Play</td>\n",
       "      <td>7b28e389-c129-4964-9f12-d5c1f4f4ce1d</td>\n",
       "      <td>Haris Kahn</td>\n",
       "      <td>Nice app</td>\n",
       "      <td>5</td>\n",
       "      <td>0.0</td>\n",
       "      <td>2023-07-07 17:55:25</td>\n",
       "      <td>en</td>\n",
       "      <td>us</td>\n",
       "    </tr>\n",
       "  </tbody>\n",
       "</table>\n",
       "</div>"
      ],
      "text/plain": [
       "         neg    neu    pos  compound  index       source  \\\n",
       "9199   0.000  0.263  0.737    0.4215   9199  Google Play   \n",
       "32785  0.000  0.913  0.087    0.3182  32785  Google Play   \n",
       "17333  0.000  1.000  0.000    0.0000  17333  Google Play   \n",
       "32635  0.000  0.476  0.524    0.6705  32635  Google Play   \n",
       "35924  0.178  0.637  0.185    0.0258  35924    App Store   \n",
       "11005  0.000  1.000  0.000    0.0000  11005  Google Play   \n",
       "31832  0.000  0.877  0.123    0.2724  31832  Google Play   \n",
       "22928  0.000  0.385  0.615    0.4927  22928  Google Play   \n",
       "28789  0.000  1.000  0.000    0.0000  28789  Google Play   \n",
       "19793  0.000  0.263  0.737    0.4215  19793  Google Play   \n",
       "\n",
       "                                  review_id       user_name  \\\n",
       "9199   25c64078-7989-4d88-9e26-add258a3ff3c      RADHE SONI   \n",
       "32785  08dd890e-b7bc-44d8-a9a6-11adfb839295    Los Kingster   \n",
       "17333  1e314c06-ecd8-496e-960f-4252f1cb3694    Eniola Rufus   \n",
       "32635  5688dc2f-480c-4007-b169-645a4e689190      Faraz Khan   \n",
       "35924  dd909fad-e362-4170-897c-a9dc9c58d719    IDFK!!!!!!!!   \n",
       "11005  8298ca68-2d69-4b52-8249-ef143794f220   Grant whitman   \n",
       "31832  b34d47b5-a7a3-4ecd-af2f-5aceb10dac61  VIKASH BARAIYA   \n",
       "22928  14384004-ff40-4c30-8506-5ac16237c6d1  Abdou Belloumi   \n",
       "28789  7a3244bd-0e03-4e38-b4f5-94081b54df8a   pankaj tholia   \n",
       "19793  7b28e389-c129-4964-9f12-d5c1f4f4ce1d      Haris Kahn   \n",
       "\n",
       "                                      review_description  rating  thumbs_up  \\\n",
       "9199                                            Nice app       5        0.0   \n",
       "32785  App not working all content messing up cluster...       1        4.0   \n",
       "17333                                  Thread 🤘😁🤘 we are       5        0.0   \n",
       "32635      Good morning for new opportunities to tweeter       5        0.0   \n",
       "35924  Better than having to deal with the freaking p...       5        NaN   \n",
       "11005  The app was using about 99% of my battery. Del...       1        0.0   \n",
       "31832  Very good this app but this app in privacy see...       4        0.0   \n",
       "22928                                      Very good app       5        0.0   \n",
       "28789                                          Thik s le       3        0.0   \n",
       "19793                                           Nice app       5        0.0   \n",
       "\n",
       "               review_date laguage_code country_code  \n",
       "9199   2023-07-11 08:41:48           en           us  \n",
       "32785  2023-07-06 11:44:38           en           us  \n",
       "17333  2023-07-08 01:32:55           en           us  \n",
       "32635  2023-07-06 12:05:47           en           us  \n",
       "35924  2023-07-06 20:49:30           en           us  \n",
       "11005  2023-07-10 01:54:35           en           us  \n",
       "31832  2023-07-06 13:48:27           en           us  \n",
       "22928  2023-07-07 09:39:27           en           us  \n",
       "28789  2023-07-06 19:08:42           en           us  \n",
       "19793  2023-07-07 17:55:25           en           us  "
      ]
     },
     "execution_count": 19,
     "metadata": {},
     "output_type": "execute_result"
    }
   ],
   "source": [
    "final.sample(10)"
   ]
  }
 ],
 "metadata": {
  "kernelspec": {
   "display_name": "Python 3",
   "language": "python",
   "name": "python3"
  },
  "language_info": {
   "codemirror_mode": {
    "name": "ipython",
    "version": 3
   },
   "file_extension": ".py",
   "mimetype": "text/x-python",
   "name": "python",
   "nbconvert_exporter": "python",
   "pygments_lexer": "ipython3",
   "version": "3.10.12"
  },
  "papermill": {
   "default_parameters": {},
   "duration": 34.166489,
   "end_time": "2023-08-10T07:34:54.237278",
   "environment_variables": {},
   "exception": null,
   "input_path": "__notebook__.ipynb",
   "output_path": "__notebook__.ipynb",
   "parameters": {},
   "start_time": "2023-08-10T07:34:20.070789",
   "version": "2.4.0"
  },
  "widgets": {
   "application/vnd.jupyter.widget-state+json": {
    "state": {
     "21384a2e74d24da79141812826bdcb90": {
      "model_module": "@jupyter-widgets/base",
      "model_module_version": "1.2.0",
      "model_name": "LayoutModel",
      "state": {
       "_model_module": "@jupyter-widgets/base",
       "_model_module_version": "1.2.0",
       "_model_name": "LayoutModel",
       "_view_count": null,
       "_view_module": "@jupyter-widgets/base",
       "_view_module_version": "1.2.0",
       "_view_name": "LayoutView",
       "align_content": null,
       "align_items": null,
       "align_self": null,
       "border": null,
       "bottom": null,
       "display": null,
       "flex": null,
       "flex_flow": null,
       "grid_area": null,
       "grid_auto_columns": null,
       "grid_auto_flow": null,
       "grid_auto_rows": null,
       "grid_column": null,
       "grid_gap": null,
       "grid_row": null,
       "grid_template_areas": null,
       "grid_template_columns": null,
       "grid_template_rows": null,
       "height": null,
       "justify_content": null,
       "justify_items": null,
       "left": null,
       "margin": null,
       "max_height": null,
       "max_width": null,
       "min_height": null,
       "min_width": null,
       "object_fit": null,
       "object_position": null,
       "order": null,
       "overflow": null,
       "overflow_x": null,
       "overflow_y": null,
       "padding": null,
       "right": null,
       "top": null,
       "visibility": null,
       "width": null
      }
     },
     "37c96fe30f824e818542158d3119e274": {
      "model_module": "@jupyter-widgets/controls",
      "model_module_version": "1.5.0",
      "model_name": "HTMLModel",
      "state": {
       "_dom_classes": [],
       "_model_module": "@jupyter-widgets/controls",
       "_model_module_version": "1.5.0",
       "_model_name": "HTMLModel",
       "_view_count": null,
       "_view_module": "@jupyter-widgets/controls",
       "_view_module_version": "1.5.0",
       "_view_name": "HTMLView",
       "description": "",
       "description_tooltip": null,
       "layout": "IPY_MODEL_21384a2e74d24da79141812826bdcb90",
       "placeholder": "​",
       "style": "IPY_MODEL_db7fddce07bf4310bf86f315e441b426",
       "value": " 36943/36943 [00:12&lt;00:00, 1809.40it/s]"
      }
     },
     "5deea1a0dea449a885e8d2f0dd09246c": {
      "model_module": "@jupyter-widgets/base",
      "model_module_version": "1.2.0",
      "model_name": "LayoutModel",
      "state": {
       "_model_module": "@jupyter-widgets/base",
       "_model_module_version": "1.2.0",
       "_model_name": "LayoutModel",
       "_view_count": null,
       "_view_module": "@jupyter-widgets/base",
       "_view_module_version": "1.2.0",
       "_view_name": "LayoutView",
       "align_content": null,
       "align_items": null,
       "align_self": null,
       "border": null,
       "bottom": null,
       "display": null,
       "flex": null,
       "flex_flow": null,
       "grid_area": null,
       "grid_auto_columns": null,
       "grid_auto_flow": null,
       "grid_auto_rows": null,
       "grid_column": null,
       "grid_gap": null,
       "grid_row": null,
       "grid_template_areas": null,
       "grid_template_columns": null,
       "grid_template_rows": null,
       "height": null,
       "justify_content": null,
       "justify_items": null,
       "left": null,
       "margin": null,
       "max_height": null,
       "max_width": null,
       "min_height": null,
       "min_width": null,
       "object_fit": null,
       "object_position": null,
       "order": null,
       "overflow": null,
       "overflow_x": null,
       "overflow_y": null,
       "padding": null,
       "right": null,
       "top": null,
       "visibility": null,
       "width": null
      }
     },
     "5f3be6c857d04058842314d6a2417d66": {
      "model_module": "@jupyter-widgets/controls",
      "model_module_version": "1.5.0",
      "model_name": "ProgressStyleModel",
      "state": {
       "_model_module": "@jupyter-widgets/controls",
       "_model_module_version": "1.5.0",
       "_model_name": "ProgressStyleModel",
       "_view_count": null,
       "_view_module": "@jupyter-widgets/base",
       "_view_module_version": "1.2.0",
       "_view_name": "StyleView",
       "bar_color": null,
       "description_width": ""
      }
     },
     "931d343134de42e2a1a94064ca55ab38": {
      "model_module": "@jupyter-widgets/base",
      "model_module_version": "1.2.0",
      "model_name": "LayoutModel",
      "state": {
       "_model_module": "@jupyter-widgets/base",
       "_model_module_version": "1.2.0",
       "_model_name": "LayoutModel",
       "_view_count": null,
       "_view_module": "@jupyter-widgets/base",
       "_view_module_version": "1.2.0",
       "_view_name": "LayoutView",
       "align_content": null,
       "align_items": null,
       "align_self": null,
       "border": null,
       "bottom": null,
       "display": null,
       "flex": null,
       "flex_flow": null,
       "grid_area": null,
       "grid_auto_columns": null,
       "grid_auto_flow": null,
       "grid_auto_rows": null,
       "grid_column": null,
       "grid_gap": null,
       "grid_row": null,
       "grid_template_areas": null,
       "grid_template_columns": null,
       "grid_template_rows": null,
       "height": null,
       "justify_content": null,
       "justify_items": null,
       "left": null,
       "margin": null,
       "max_height": null,
       "max_width": null,
       "min_height": null,
       "min_width": null,
       "object_fit": null,
       "object_position": null,
       "order": null,
       "overflow": null,
       "overflow_x": null,
       "overflow_y": null,
       "padding": null,
       "right": null,
       "top": null,
       "visibility": null,
       "width": null
      }
     },
     "a5e2c209563049708c9f2751faf717ba": {
      "model_module": "@jupyter-widgets/controls",
      "model_module_version": "1.5.0",
      "model_name": "HBoxModel",
      "state": {
       "_dom_classes": [],
       "_model_module": "@jupyter-widgets/controls",
       "_model_module_version": "1.5.0",
       "_model_name": "HBoxModel",
       "_view_count": null,
       "_view_module": "@jupyter-widgets/controls",
       "_view_module_version": "1.5.0",
       "_view_name": "HBoxView",
       "box_style": "",
       "children": [
        "IPY_MODEL_e5121dba3edc4bf2b1b25ca08743146b",
        "IPY_MODEL_f079cdbaa1de4bd0930439e94f4008b0",
        "IPY_MODEL_37c96fe30f824e818542158d3119e274"
       ],
       "layout": "IPY_MODEL_5deea1a0dea449a885e8d2f0dd09246c"
      }
     },
     "db7fddce07bf4310bf86f315e441b426": {
      "model_module": "@jupyter-widgets/controls",
      "model_module_version": "1.5.0",
      "model_name": "DescriptionStyleModel",
      "state": {
       "_model_module": "@jupyter-widgets/controls",
       "_model_module_version": "1.5.0",
       "_model_name": "DescriptionStyleModel",
       "_view_count": null,
       "_view_module": "@jupyter-widgets/base",
       "_view_module_version": "1.2.0",
       "_view_name": "StyleView",
       "description_width": ""
      }
     },
     "de3285db143246e290c8f2e2fb89cbf9": {
      "model_module": "@jupyter-widgets/base",
      "model_module_version": "1.2.0",
      "model_name": "LayoutModel",
      "state": {
       "_model_module": "@jupyter-widgets/base",
       "_model_module_version": "1.2.0",
       "_model_name": "LayoutModel",
       "_view_count": null,
       "_view_module": "@jupyter-widgets/base",
       "_view_module_version": "1.2.0",
       "_view_name": "LayoutView",
       "align_content": null,
       "align_items": null,
       "align_self": null,
       "border": null,
       "bottom": null,
       "display": null,
       "flex": null,
       "flex_flow": null,
       "grid_area": null,
       "grid_auto_columns": null,
       "grid_auto_flow": null,
       "grid_auto_rows": null,
       "grid_column": null,
       "grid_gap": null,
       "grid_row": null,
       "grid_template_areas": null,
       "grid_template_columns": null,
       "grid_template_rows": null,
       "height": null,
       "justify_content": null,
       "justify_items": null,
       "left": null,
       "margin": null,
       "max_height": null,
       "max_width": null,
       "min_height": null,
       "min_width": null,
       "object_fit": null,
       "object_position": null,
       "order": null,
       "overflow": null,
       "overflow_x": null,
       "overflow_y": null,
       "padding": null,
       "right": null,
       "top": null,
       "visibility": null,
       "width": null
      }
     },
     "e5121dba3edc4bf2b1b25ca08743146b": {
      "model_module": "@jupyter-widgets/controls",
      "model_module_version": "1.5.0",
      "model_name": "HTMLModel",
      "state": {
       "_dom_classes": [],
       "_model_module": "@jupyter-widgets/controls",
       "_model_module_version": "1.5.0",
       "_model_name": "HTMLModel",
       "_view_count": null,
       "_view_module": "@jupyter-widgets/controls",
       "_view_module_version": "1.5.0",
       "_view_name": "HTMLView",
       "description": "",
       "description_tooltip": null,
       "layout": "IPY_MODEL_931d343134de42e2a1a94064ca55ab38",
       "placeholder": "​",
       "style": "IPY_MODEL_efe75945e67b4d79a5c897d27df59137",
       "value": "100%"
      }
     },
     "efe75945e67b4d79a5c897d27df59137": {
      "model_module": "@jupyter-widgets/controls",
      "model_module_version": "1.5.0",
      "model_name": "DescriptionStyleModel",
      "state": {
       "_model_module": "@jupyter-widgets/controls",
       "_model_module_version": "1.5.0",
       "_model_name": "DescriptionStyleModel",
       "_view_count": null,
       "_view_module": "@jupyter-widgets/base",
       "_view_module_version": "1.2.0",
       "_view_name": "StyleView",
       "description_width": ""
      }
     },
     "f079cdbaa1de4bd0930439e94f4008b0": {
      "model_module": "@jupyter-widgets/controls",
      "model_module_version": "1.5.0",
      "model_name": "FloatProgressModel",
      "state": {
       "_dom_classes": [],
       "_model_module": "@jupyter-widgets/controls",
       "_model_module_version": "1.5.0",
       "_model_name": "FloatProgressModel",
       "_view_count": null,
       "_view_module": "@jupyter-widgets/controls",
       "_view_module_version": "1.5.0",
       "_view_name": "ProgressView",
       "bar_style": "success",
       "description": "",
       "description_tooltip": null,
       "layout": "IPY_MODEL_de3285db143246e290c8f2e2fb89cbf9",
       "max": 36943.0,
       "min": 0.0,
       "orientation": "horizontal",
       "style": "IPY_MODEL_5f3be6c857d04058842314d6a2417d66",
       "value": 36943.0
      }
     }
    },
    "version_major": 2,
    "version_minor": 0
   }
  }
 },
 "nbformat": 4,
 "nbformat_minor": 5
}
